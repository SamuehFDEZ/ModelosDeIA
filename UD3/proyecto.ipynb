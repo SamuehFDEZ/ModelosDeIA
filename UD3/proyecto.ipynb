{
 "cells": [
  {
   "cell_type": "markdown",
   "metadata": {},
   "source": [
    "# Reconocimiento de Entidades Nombradas (NER)\n"
   ]
  },
  {
   "cell_type": "markdown",
   "metadata": {},
   "source": [
    "### Autores: Lucas Tarazona y Samuel Arteaga"
   ]
  },
  {
   "cell_type": "markdown",
   "metadata": {},
   "source": [
    "### 1. Importación de librerías"
   ]
  },
  {
   "cell_type": "code",
   "execution_count": 2,
   "metadata": {},
   "outputs": [],
   "source": [
    "from transformers import pipeline\n",
    "import spacy\n",
    "from sklearn.metrics import classification_report"
   ]
  },
  {
   "cell_type": "code",
   "execution_count": 3,
   "metadata": {},
   "outputs": [],
   "source": [
    "textos = [\n",
    "    \"El contrato entre Empresa XYZ y el proveedor ABC establece que la entrega de los bienes deberá realizarse en un plazo no mayor a 30 días desde la firma del acuerdo.\",\n",
    "    \"Según la Ley 25/2018 de Protección de Datos, todas las empresas deben garantizar la privacidad de la información de sus clientes y empleados.\"\n",
    "]"
   ]
  },
  {
   "cell_type": "code",
   "execution_count": 5,
   "metadata": {},
   "outputs": [
    {
     "name": "stdout",
     "output_type": "stream",
     "text": [
      "\n",
      "Texto: El contrato entre Empresa XYZ y el proveedor ABC establece que la entrega de los bienes deberá realizarse en un plazo no mayor a 30 días desde la firma del acuerdo.\n",
      "Entidades reconocidas:\n",
      " - Empresa (LOC)\n",
      " - ABC (ORG)\n",
      "\n",
      "Texto: Según la Ley 25/2018 de Protección de Datos, todas las empresas deben garantizar la privacidad de la información de sus clientes y empleados.\n",
      "Entidades reconocidas:\n",
      " - Según la Ley (PER)\n",
      " - Protección de Datos (LOC)\n"
     ]
    }
   ],
   "source": [
    "nlp = spacy.load(\"es_core_news_sm\")  # Modelo en español\n",
    "\n",
    "for texto in textos:\n",
    "    doc = nlp(texto)\n",
    "    print(\"\\nTexto:\", texto)\n",
    "    print(\"Entidades reconocidas:\")\n",
    "    for ent in doc.ents:\n",
    "        print(f\" - {ent.text} ({ent.label_})\")"
   ]
  },
  {
   "cell_type": "code",
   "execution_count": 6,
   "metadata": {},
   "outputs": [
    {
     "name": "stderr",
     "output_type": "stream",
     "text": [
      "c:\\Users\\ESP\\Desktop\\ModelosIA\\.venv\\Lib\\site-packages\\huggingface_hub\\file_download.py:140: UserWarning: `huggingface_hub` cache-system uses symlinks by default to efficiently store duplicated files but your machine does not support them in C:\\Users\\ESP\\.cache\\huggingface\\hub\\models--PlanTL-GOB-ES--roberta-base-bne. Caching files will still work but in a degraded version that might require more space on your disk. This warning can be disabled by setting the `HF_HUB_DISABLE_SYMLINKS_WARNING` environment variable. For more details, see https://huggingface.co/docs/huggingface_hub/how-to-cache#limitations.\n",
      "To support symlinks on Windows, you either need to activate Developer Mode or to run Python as an administrator. In order to activate developer mode, see this article: https://docs.microsoft.com/en-us/windows/apps/get-started/enable-your-device-for-development\n",
      "  warnings.warn(message)\n",
      "Some weights of RobertaForTokenClassification were not initialized from the model checkpoint at PlanTL-GOB-ES/roberta-base-bne and are newly initialized: ['classifier.bias', 'classifier.weight']\n",
      "You should probably TRAIN this model on a down-stream task to be able to use it for predictions and inference.\n",
      "Device set to use cpu\n"
     ]
    },
    {
     "name": "stdout",
     "output_type": "stream",
     "text": [
      "\n",
      "Texto: El contrato entre Empresa XYZ y el proveedor ABC establece que la entrega de los bienes deberá realizarse en un plazo no mayor a 30 días desde la firma del acuerdo.\n",
      " - El contrato (LABEL_1)\n",
      " -  entre (LABEL_0)\n",
      " -  Empresa XYZ y el proveedor ABC establece (LABEL_1)\n",
      " -  que (LABEL_0)\n",
      " -  la (LABEL_1)\n",
      " -  entrega de (LABEL_0)\n",
      " -  los bienes (LABEL_1)\n",
      " -  deberá realizarse en (LABEL_0)\n",
      " -  un plazo no mayor a 30 días desde (LABEL_1)\n",
      " -  la (LABEL_0)\n",
      " -  firma (LABEL_1)\n",
      " -  del (LABEL_0)\n",
      " -  acuerdo. (LABEL_1)\n",
      "\n",
      "Texto: Según la Ley 25/2018 de Protección de Datos, todas las empresas deben garantizar la privacidad de la información de sus clientes y empleados.\n",
      " - Según (LABEL_1)\n",
      " -  la (LABEL_0)\n",
      " -  Ley (LABEL_1)\n",
      " -  25/ (LABEL_0)\n",
      " - 2018 (LABEL_1)\n",
      " -  de (LABEL_0)\n",
      " -  Protección (LABEL_1)\n",
      " -  de (LABEL_0)\n",
      " -  Datos, todas las empresas (LABEL_1)\n",
      " -  deben (LABEL_0)\n",
      " -  garantizar la privacidad (LABEL_1)\n",
      " -  de (LABEL_0)\n",
      " -  la información (LABEL_1)\n",
      " -  de (LABEL_0)\n",
      " -  sus clientes y empleados. (LABEL_1)\n"
     ]
    }
   ],
   "source": [
    "ner_pipeline = pipeline(\"ner\", model=\"PlanTL-GOB-ES/roberta-base-bne\", aggregation_strategy=\"simple\")\n",
    "\n",
    "for texto in textos:\n",
    "    print(\"\\nTexto:\", texto)\n",
    "    entidades = ner_pipeline(texto)\n",
    "    for ent in entidades:\n",
    "        print(f\" - {ent['word']} ({ent['entity_group']})\")"
   ]
  },
  {
   "cell_type": "code",
   "execution_count": 7,
   "metadata": {},
   "outputs": [
    {
     "name": "stdout",
     "output_type": "stream",
     "text": [
      "              precision    recall  f1-score   support\n",
      "\n",
      "         LAW       1.00      1.00      1.00         1\n",
      "         ORG       1.00      1.00      1.00         1\n",
      "\n",
      "    accuracy                           1.00         2\n",
      "   macro avg       1.00      1.00      1.00         2\n",
      "weighted avg       1.00      1.00      1.00         2\n",
      "\n"
     ]
    }
   ],
   "source": [
    "# Supongamos que tenemos etiquetas reales y predicciones (esto es solo un ejemplo)\n",
    "y_true = [\"ORG\", \"LAW\"]  # Empresa XYZ → ORG, Ley 25/2018 → LAW\n",
    "y_pred = [\"ORG\", \"LAW\"]  # Modelo predice correctamente\n",
    "\n",
    "print(classification_report(y_true, y_pred))"
   ]
  }
 ],
 "metadata": {
  "kernelspec": {
   "display_name": ".venv",
   "language": "python",
   "name": "python3"
  },
  "language_info": {
   "codemirror_mode": {
    "name": "ipython",
    "version": 3
   },
   "file_extension": ".py",
   "mimetype": "text/x-python",
   "name": "python",
   "nbconvert_exporter": "python",
   "pygments_lexer": "ipython3",
   "version": "3.12.7"
  }
 },
 "nbformat": 4,
 "nbformat_minor": 2
}
