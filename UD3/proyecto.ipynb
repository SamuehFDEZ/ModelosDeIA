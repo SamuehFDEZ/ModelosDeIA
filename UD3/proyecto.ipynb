{
 "cells": [
  {
   "cell_type": "markdown",
   "metadata": {},
   "source": [
    "# Reconocimiento de Entidades Nombradas (NER)\n"
   ]
  },
  {
   "cell_type": "markdown",
   "metadata": {},
   "source": [
    "### Autores: Lucas Tarazona y Samuel Arteaga"
   ]
  },
  {
   "cell_type": "markdown",
   "metadata": {},
   "source": [
    "### 1. Importación de librerías"
   ]
  },
  {
   "cell_type": "code",
   "execution_count": null,
   "metadata": {
    "jupyter": {
     "is_executing": true
    }
   },
   "outputs": [
    {
     "name": "stderr",
     "output_type": "stream",
     "text": [
      "c:\\Users\\ESP\\Desktop\\ModelosIA\\.venv\\Lib\\site-packages\\tqdm\\auto.py:21: TqdmWarning: IProgress not found. Please update jupyter and ipywidgets. See https://ipywidgets.readthedocs.io/en/stable/user_install.html\n",
      "  from .autonotebook import tqdm as notebook_tqdm\n"
     ]
    }
   ],
   "source": [
    "import spacy\n",
    "from transformers import pipeline\n",
    "from seqeval.metrics import classification_report as seqeval_report\n",
    "import seaborn as sns\n",
    "from sklearn.metrics import confusion_matrix\n",
    "from matplotlib import pyplot as plt\n",
    "from sklearn.metrics import classification_report"
   ]
  },
  {
   "cell_type": "markdown",
   "metadata": {},
   "source": [
    "### 2. Textos a analizar"
   ]
  },
  {
   "cell_type": "code",
   "execution_count": 2,
   "metadata": {},
   "outputs": [],
   "source": [
    "textos = list({\n",
    "                  \"El acuerdo entre la compañía ACME Corp. y el distribuidor GlobalTech garantiza la entrega en un máximo de 45 días.\"\n",
    "                  \"Según la Ley 12/2020 de Transparencia, las instituciones deben publicar informes anuales de sus actividades.\"\n",
    "                  \"El proveedor SoftSystems deberá suministrar el software antes del 15 de marzo de 2024, según lo pactado en el contrato.\"\n",
    "                  \"La empresa Innovatech firmó un convenio con la Universidad Nacional para el desarrollo de nuevas tecnologías.\"\n",
    "                  \"De acuerdo con el Decreto 458/2019, las entidades bancarias deben implementar medidas de ciberseguridad.\"\n",
    "                  \"El contrato firmado con DataSecure estipula que los servidores estarán operativos 24/7 durante cinco años.\"\n",
    "                  \"La normativa ISO 27001 establece los estándares de seguridad en la gestión de datos empresariales.\"\n",
    "                  \"El Ministerio de Salud emitió la Resolución 189/2021 sobre la regulación de medicamentos genéricos.\"\n",
    "                  \"La multinacional TechSolutions anunció una inversión de 10 millones de euros en inteligencia artificial.\"\n",
    "                  \"La Ley Orgánica 3/2018 regula el tratamiento de datos personales en el ámbito empresarial.\"\n",
    "                  \"El acuerdo comercial entre EU y México establece aranceles reducidos para la importación de tecnología.\"\n",
    "                  \"El Banco Nacional deberá cumplir con las regulaciones de la Ley 45/2022 sobre transparencia financiera.\"\n",
    "                  \"La empresa LogiTransport acordó con la municipalidad mejorar las rutas de distribución en un plazo de 6 meses.\"\n",
    "                  \"El Reglamento Europeo 679/2016 establece normas estrictas sobre la protección de datos personales.\"\n",
    "                  \"La Ley 15/2019 obliga a las compañías aseguradoras a ofrecer cobertura mínima a sus clientes.\"\n",
    "                  \"Según el contrato con PharmaMed, los hospitales recibirán insumos médicos cada trimestre.\"\n",
    "                  \"El gobierno firmó un convenio con EnergyGreen para el desarrollo de energías renovables.\"\n",
    "                  \"La Resolución 320/2020 impone límites a la publicidad de productos con alto contenido de azúcar.\"\n",
    "                  \"La startup FinTechGo recibió una ronda de financiamiento de 5 millones de dólares.\"\n",
    "                  \"La Ley Federal de Protección al Consumidor exige que los productos incluyan información nutricional clara.\"\n",
    "                  \"El contrato entre el Gobierno de España y CyberDefend cubre la seguridad cibernética en infraestructuras críticas.\"\n",
    "                  \"El fabricante de automóviles AutoMundo anunció una alianza con EcoBattery para vehículos eléctricos.\"\n",
    "                  \"Según la Ley 23/2017, los comercios deben aceptar pagos electrónicos sin recargos adicionales.\"\n",
    "                  \"La aerolínea SkyTravel firmó un acuerdo con la Agencia Europea de Seguridad Aérea para modernizar sus aviones.\"\n",
    "                  \"La nueva Ley 89/2021 busca reducir las emisiones de CO₂ en un 30 por ciento antes de 2030.\"\n",
    "                  \"El Tribunal Supremo falló a favor de la empresa SolarTech en un litigio por patentes.\"\n",
    "                  \"El contrato con la aseguradora GlobalProtect establece una cobertura total de responsabilidad civil.\"\n",
    "                  \"La Resolución 55/2022 prohíbe la venta de plásticos de un solo uso en establecimientos comerciales.\"\n",
    "                  \"El acuerdo entre el Banco Central y FinRegTech facilitará la supervisión financiera digital.\"\n",
    "                  \"La multinacional FoodCorp deberá reformular sus productos según lo estipulado en la Ley 11/2023.\"\n",
    "                  \"El gobierno de Chile firmó un tratado con BioGenTech para la investigación de nuevas vacunas.\"\n",
    "                  \"La Ley de Propiedad Intelectual protege las creaciones artísticas y científicas durante 70 años.\"\n",
    "                  \"El acuerdo de cooperación entre Japón y Brasil fomentará la inversión en infraestructura.\"\n",
    "                  \"Según el Decreto 101/2020, las plataformas digitales deben pagar impuestos locales en sus países de operación.\"\n",
    "                  \"La Resolución 220/2019 impone restricciones a la importación de productos electrónicos sin certificación.\"\n",
    "                  \"La empresa MedicaPlus anunció la adquisición de HealthCorp por 2.500 millones de dólares.\"\n",
    "                  \"El Reglamento 140/2021 de la Unión Europea establece normas para la venta de productos ecológicos.\"\n",
    "                  \"El contrato de abastecimiento entre PetroGlobal y Refinería Sur se extenderá hasta 2028.\"\n",
    "                  \"La Ley 30/2015 establece incentivos fiscales para empresas que inviertan en desarrollo tecnológico.\"\n",
    "                  \"El gobierno local otorgó una concesión a AquaSolutions para la gestión del suministro de agua potable.\"\n",
    "                  \"El fabricante de semiconductores ChipMaster anunció una expansión en su planta de producción en Taiwán.\"\n",
    "                  \"Según la Resolución 77/2023, los bancos deben ofrecer atención al cliente en todos los idiomas oficiales del país.\"\n",
    "                  \"El Tribunal de Justicia de la Unión Europea sancionó a DataFirm por incumplimiento de la GDPR.\"\n",
    "                  \"La empresa de logística FastTrack acordó reducir su huella de carbono en un 20% para 2025.\"\n",
    "                  \"La Ley 42/2020 establece penas más severas para delitos relacionados con la ciberdelincuencia.\"\n",
    "                  \"El Banco Mundial aprobó un préstamo de 500 millones de dólares para proyectos de infraestructura en África.\"\n",
    "                  \"El acuerdo de libre comercio entre Canadá y Reino Unido entrará en vigor el 1 de enero de 2025.\"\n",
    "                  \"Según el Decreto 78/2022, las empresas deben ofrecer teletrabajo a empleados con hijos menores de 5 años.\"\n",
    "                  \"La aerolínea GlobalWings recibió la certificación ISO 9001 por su excelencia en servicio al cliente.\"\n",
    "                  \"El contrato de concesión firmado con InfraBuild prevé la construcción de 10 puentes en los próximos 5 años.\"})"
   ]
  },
  {
   "cell_type": "markdown",
   "metadata": {},
   "source": [
    "### 3. Carga de modelos"
   ]
  },
  {
   "cell_type": "markdown",
   "metadata": {},
   "source": [
    "En este caso utilizaremos el modelo small de Spacy pues tenemos pocas muestras de datos"
   ]
  },
  {
   "cell_type": "code",
   "execution_count": 3,
   "metadata": {},
   "outputs": [
    {
     "name": "stderr",
     "output_type": "stream",
     "text": [
      "Some weights of RobertaForTokenClassification were not initialized from the model checkpoint at PlanTL-GOB-ES/roberta-base-bne and are newly initialized: ['classifier.bias', 'classifier.weight']\n",
      "You should probably TRAIN this model on a down-stream task to be able to use it for predictions and inference.\n",
      "Device set to use cpu\n"
     ]
    }
   ],
   "source": [
    "nlp = spacy.load(\"es_core_news_sm\")  # Modelo de Spacy\n",
    "ner_pipeline = pipeline(\"ner\", model=\"PlanTL-GOB-ES/roberta-base-bne\", aggregation_strategy=\"simple\")"
   ]
  },
  {
   "cell_type": "markdown",
   "metadata": {},
   "source": [
    "### 4. Evaluación de NER con spaCy"
   ]
  },
  {
   "cell_type": "code",
   "execution_count": 4,
   "metadata": {},
   "outputs": [
    {
     "name": "stdout",
     "output_type": "stream",
     "text": [
      "\n",
      "===== Análisis con spaCy =====\n",
      "\n",
      "Texto: El acuerdo entre la compañía ACME Corp. y el distribuidor GlobalTech garantiza la entrega en un máximo de 45 días.Según la Ley 12/2020 de Transparencia, las instituciones deben publicar informes anuales de sus actividades.El proveedor SoftSystems deberá suministrar el software antes del 15 de marzo de 2024, según lo pactado en el contrato.La empresa Innovatech firmó un convenio con la Universidad Nacional para el desarrollo de nuevas tecnologías.De acuerdo con el Decreto 458/2019, las entidades bancarias deben implementar medidas de ciberseguridad.El contrato firmado con DataSecure estipula que los servidores estarán operativos 24/7 durante cinco años.La normativa ISO 27001 establece los estándares de seguridad en la gestión de datos empresariales.El Ministerio de Salud emitió la Resolución 189/2021 sobre la regulación de medicamentos genéricos.La multinacional TechSolutions anunció una inversión de 10 millones de euros en inteligencia artificial.La Ley Orgánica 3/2018 regula el tratamiento de datos personales en el ámbito empresarial.El acuerdo comercial entre EU y México establece aranceles reducidos para la importación de tecnología.El Banco Nacional deberá cumplir con las regulaciones de la Ley 45/2022 sobre transparencia financiera.La empresa LogiTransport acordó con la municipalidad mejorar las rutas de distribución en un plazo de 6 meses.El Reglamento Europeo 679/2016 establece normas estrictas sobre la protección de datos personales.La Ley 15/2019 obliga a las compañías aseguradoras a ofrecer cobertura mínima a sus clientes.Según el contrato con PharmaMed, los hospitales recibirán insumos médicos cada trimestre.El gobierno firmó un convenio con EnergyGreen para el desarrollo de energías renovables.La Resolución 320/2020 impone límites a la publicidad de productos con alto contenido de azúcar.La startup FinTechGo recibió una ronda de financiamiento de 5 millones de dólares.La Ley Federal de Protección al Consumidor exige que los productos incluyan información nutricional clara.El contrato entre el Gobierno de España y CyberDefend cubre la seguridad cibernética en infraestructuras críticas.El fabricante de automóviles AutoMundo anunció una alianza con EcoBattery para vehículos eléctricos.Según la Ley 23/2017, los comercios deben aceptar pagos electrónicos sin recargos adicionales.La aerolínea SkyTravel firmó un acuerdo con la Agencia Europea de Seguridad Aérea para modernizar sus aviones.La nueva Ley 89/2021 busca reducir las emisiones de CO₂ en un 30 por ciento antes de 2030.El Tribunal Supremo falló a favor de la empresa SolarTech en un litigio por patentes.El contrato con la aseguradora GlobalProtect establece una cobertura total de responsabilidad civil.La Resolución 55/2022 prohíbe la venta de plásticos de un solo uso en establecimientos comerciales.El acuerdo entre el Banco Central y FinRegTech facilitará la supervisión financiera digital.La multinacional FoodCorp deberá reformular sus productos según lo estipulado en la Ley 11/2023.El gobierno de Chile firmó un tratado con BioGenTech para la investigación de nuevas vacunas.La Ley de Propiedad Intelectual protege las creaciones artísticas y científicas durante 70 años.El acuerdo de cooperación entre Japón y Brasil fomentará la inversión en infraestructura.Según el Decreto 101/2020, las plataformas digitales deben pagar impuestos locales en sus países de operación.La Resolución 220/2019 impone restricciones a la importación de productos electrónicos sin certificación.La empresa MedicaPlus anunció la adquisición de HealthCorp por 2.500 millones de dólares.El Reglamento 140/2021 de la Unión Europea establece normas para la venta de productos ecológicos.El contrato de abastecimiento entre PetroGlobal y Refinería Sur se extenderá hasta 2028.La Ley 30/2015 establece incentivos fiscales para empresas que inviertan en desarrollo tecnológico.El gobierno local otorgó una concesión a AquaSolutions para la gestión del suministro de agua potable.El fabricante de semiconductores ChipMaster anunció una expansión en su planta de producción en Taiwán.Según la Resolución 77/2023, los bancos deben ofrecer atención al cliente en todos los idiomas oficiales del país.El Tribunal de Justicia de la Unión Europea sancionó a DataFirm por incumplimiento de la GDPR.La empresa de logística FastTrack acordó reducir su huella de carbono en un 20% para 2025.La Ley 42/2020 establece penas más severas para delitos relacionados con la ciberdelincuencia.El Banco Mundial aprobó un préstamo de 500 millones de dólares para proyectos de infraestructura en África.El acuerdo de libre comercio entre Canadá y Reino Unido entrará en vigor el 1 de enero de 2025.Según el Decreto 78/2022, las empresas deben ofrecer teletrabajo a empleados con hijos menores de 5 años.La aerolínea GlobalWings recibió la certificación ISO 9001 por su excelencia en servicio al cliente.El contrato de concesión firmado con InfraBuild prevé la construcción de 10 puentes en los próximos 5 años.\n",
      "Entidades reconocidas:\n",
      " - ACME Corp (MISC)\n",
      " - GlobalTech (PER)\n",
      " - Según la Ley (PER)\n",
      " - Transparencia (LOC)\n",
      " - El proveedor SoftSystems (MISC)\n",
      " - La empresa (MISC)\n",
      " - Innovatech (ORG)\n",
      " - Universidad Nacional (ORG)\n",
      " - Decreto 458/2019 (MISC)\n",
      " - El contrato firmado (MISC)\n",
      " - DataSecure (MISC)\n",
      " - La normativa (MISC)\n",
      " - ISO 27001 (MISC)\n",
      " - El Ministerio de Salud (MISC)\n",
      " - Resolución (LOC)\n",
      " - La multinacional TechSolutions (MISC)\n",
      " - La Ley Orgánica (LOC)\n",
      " - EU (LOC)\n",
      " - México (LOC)\n",
      " - El Banco Nacional (MISC)\n",
      " - la Ley (LOC)\n",
      " - La empresa (MISC)\n",
      " - LogiTransport (MISC)\n",
      " - Reglamento Europeo (ORG)\n",
      " - La Ley (LOC)\n",
      " - Según (PER)\n",
      " - PharmaMed (LOC)\n",
      " - El gobierno firmó un convenio (MISC)\n",
      " - EnergyGreen (MISC)\n",
      " - La Resolución (LOC)\n",
      " - La startup FinTechGo (MISC)\n",
      " - La Ley Federal de Protección al Consumidor (LOC)\n",
      " - El contrato entre el Gobierno de España (MISC)\n",
      " - CyberDefend (MISC)\n",
      " - El fabricante de automóviles (MISC)\n",
      " - AutoMundo (MISC)\n",
      " - EcoBattery (MISC)\n",
      " - Según la Ley (PER)\n",
      " - La aerolínea SkyTravel (MISC)\n",
      " - Agencia Europea de Seguridad Aérea (ORG)\n",
      " - La nueva Ley (MISC)\n",
      " - CO₂ (MISC)\n",
      " - Tribunal Supremo (LOC)\n",
      " - SolarTech (ORG)\n",
      " - El contrato con la aseguradora (MISC)\n",
      " - GlobalProtect (MISC)\n",
      " - La Resolución (LOC)\n",
      " - El acuerdo entre el Banco Central (MISC)\n",
      " - facilitará (PER)\n",
      " - La multinacional FoodCorp (MISC)\n",
      " - la Ley (LOC)\n",
      " - Chile (LOC)\n",
      " - BioGenTech (ORG)\n",
      " - La Ley de Propiedad Intelectual (MISC)\n",
      " - El acuerdo de cooperación (MISC)\n",
      " - Japón (MISC)\n",
      " - Brasil (LOC)\n",
      " - Según el Decreto (PER)\n",
      " - La Resolución (LOC)\n",
      " - La empresa (MISC)\n",
      " - MedicaPlus (ORG)\n",
      " - HealthCorp (MISC)\n",
      " - El Reglamento 140/2021 de la Unión Europea (MISC)\n",
      " - El contrato de abastecimiento entre (MISC)\n",
      " - PetroGlobal (MISC)\n",
      " - Refinería Sur (PER)\n",
      " - 2028.La Ley (LOC)\n",
      " - El gobierno local otorgó (MISC)\n",
      " - AquaSolutions (MISC)\n",
      " - El fabricante de semiconductores (MISC)\n",
      " - ChipMaster (MISC)\n",
      " - Taiwán (LOC)\n",
      " - Según la Resolución (PER)\n",
      " - El Tribunal de Justicia de la Unión Europea (MISC)\n",
      " - DataFirm (MISC)\n",
      " - FastTrack (MISC)\n",
      " - 2025.La Ley (LOC)\n",
      " - El Banco Mundial (MISC)\n",
      " - África (LOC)\n",
      " - El acuerdo de libre comercio (MISC)\n",
      " - Canadá (PER)\n",
      " - Reino Unido (LOC)\n",
      " - 2025.Según (ORG)\n",
      " - Decreto (MISC)\n",
      " - La aerolínea GlobalWings (MISC)\n",
      " - ISO 9001 (MISC)\n",
      " - El contrato de concesión (MISC)\n",
      " - InfraBuild (ORG)\n"
     ]
    }
   ],
   "source": [
    "print(\"\\n===== Análisis con spaCy =====\")\n",
    "for texto in textos:\n",
    "    doc = nlp(texto)\n",
    "    print(\"\\nTexto:\", texto)\n",
    "    if doc.ents:\n",
    "        print(\"Entidades reconocidas:\")\n",
    "        for ent in doc.ents:\n",
    "            print(f\" - {ent.text} ({ent.label_})\")\n",
    "    else:\n",
    "        print(\" - No se encontraron entidades.\")"
   ]
  },
  {
   "cell_type": "markdown",
   "metadata": {},
   "source": [
    "ORG (Organization) → Organización, empresa o institución.\n",
    "\n",
    "PER (Person) → Persona o entidad que spaCy interpreta como persona.\n",
    "\n",
    "LOC (Location) → Ubicación geográfica (países, ciudades, lugares).\n",
    "\n",
    "MISC (Miscellaneous) → Entidades varias que no encajan en ORG, PER o LOC.\n",
    "\n",
    "Ejemplo: ISO 27001 (MISC), CO₂ (MISC), El contrato de concesión (MISC)"
   ]
  },
  {
   "cell_type": "markdown",
   "metadata": {},
   "source": [
    "### 5. Evaluación de NER con Hugging Face Transformers"
   ]
  },
  {
   "cell_type": "code",
   "execution_count": 5,
   "metadata": {},
   "outputs": [
    {
     "name": "stdout",
     "output_type": "stream",
     "text": [
      "\n",
      "===== Análisis con Transformers =====\n",
      "\n",
      "Texto: El acuerdo entre la compañía ACME Corp. y el distribuidor GlobalTech garantiza la entrega en un máximo de 45 días.Según la Ley 12/2020 de Transparencia, las instituciones deben publicar informes anuales de sus actividades.El proveedor SoftSystems deberá suministrar el software antes del 15 de marzo de 2024, según lo pactado en el contrato.La empresa Innovatech firmó un convenio con la Universidad Nacional para el desarrollo de nuevas tecnologías.De acuerdo con el Decreto 458/2019, las entidades bancarias deben implementar medidas de ciberseguridad.El contrato firmado con DataSecure estipula que los servidores estarán operativos 24/7 durante cinco años.La normativa ISO 27001 establece los estándares de seguridad en la gestión de datos empresariales.El Ministerio de Salud emitió la Resolución 189/2021 sobre la regulación de medicamentos genéricos.La multinacional TechSolutions anunció una inversión de 10 millones de euros en inteligencia artificial.La Ley Orgánica 3/2018 regula el tratamiento de datos personales en el ámbito empresarial.El acuerdo comercial entre EU y México establece aranceles reducidos para la importación de tecnología.El Banco Nacional deberá cumplir con las regulaciones de la Ley 45/2022 sobre transparencia financiera.La empresa LogiTransport acordó con la municipalidad mejorar las rutas de distribución en un plazo de 6 meses.El Reglamento Europeo 679/2016 establece normas estrictas sobre la protección de datos personales.La Ley 15/2019 obliga a las compañías aseguradoras a ofrecer cobertura mínima a sus clientes.Según el contrato con PharmaMed, los hospitales recibirán insumos médicos cada trimestre.El gobierno firmó un convenio con EnergyGreen para el desarrollo de energías renovables.La Resolución 320/2020 impone límites a la publicidad de productos con alto contenido de azúcar.La startup FinTechGo recibió una ronda de financiamiento de 5 millones de dólares.La Ley Federal de Protección al Consumidor exige que los productos incluyan información nutricional clara.El contrato entre el Gobierno de España y CyberDefend cubre la seguridad cibernética en infraestructuras críticas.El fabricante de automóviles AutoMundo anunció una alianza con EcoBattery para vehículos eléctricos.Según la Ley 23/2017, los comercios deben aceptar pagos electrónicos sin recargos adicionales.La aerolínea SkyTravel firmó un acuerdo con la Agencia Europea de Seguridad Aérea para modernizar sus aviones.La nueva Ley 89/2021 busca reducir las emisiones de CO₂ en un 30 por ciento antes de 2030.El Tribunal Supremo falló a favor de la empresa SolarTech en un litigio por patentes.El contrato con la aseguradora GlobalProtect establece una cobertura total de responsabilidad civil.La Resolución 55/2022 prohíbe la venta de plásticos de un solo uso en establecimientos comerciales.El acuerdo entre el Banco Central y FinRegTech facilitará la supervisión financiera digital.La multinacional FoodCorp deberá reformular sus productos según lo estipulado en la Ley 11/2023.El gobierno de Chile firmó un tratado con BioGenTech para la investigación de nuevas vacunas.La Ley de Propiedad Intelectual protege las creaciones artísticas y científicas durante 70 años.El acuerdo de cooperación entre Japón y Brasil fomentará la inversión en infraestructura.Según el Decreto 101/2020, las plataformas digitales deben pagar impuestos locales en sus países de operación.La Resolución 220/2019 impone restricciones a la importación de productos electrónicos sin certificación.La empresa MedicaPlus anunció la adquisición de HealthCorp por 2.500 millones de dólares.El Reglamento 140/2021 de la Unión Europea establece normas para la venta de productos ecológicos.El contrato de abastecimiento entre PetroGlobal y Refinería Sur se extenderá hasta 2028.La Ley 30/2015 establece incentivos fiscales para empresas que inviertan en desarrollo tecnológico.El gobierno local otorgó una concesión a AquaSolutions para la gestión del suministro de agua potable.El fabricante de semiconductores ChipMaster anunció una expansión en su planta de producción en Taiwán.Según la Resolución 77/2023, los bancos deben ofrecer atención al cliente en todos los idiomas oficiales del país.El Tribunal de Justicia de la Unión Europea sancionó a DataFirm por incumplimiento de la GDPR.La empresa de logística FastTrack acordó reducir su huella de carbono en un 20% para 2025.La Ley 42/2020 establece penas más severas para delitos relacionados con la ciberdelincuencia.El Banco Mundial aprobó un préstamo de 500 millones de dólares para proyectos de infraestructura en África.El acuerdo de libre comercio entre Canadá y Reino Unido entrará en vigor el 1 de enero de 2025.Según el Decreto 78/2022, las empresas deben ofrecer teletrabajo a empleados con hijos menores de 5 años.La aerolínea GlobalWings recibió la certificación ISO 9001 por su excelencia en servicio al cliente.El contrato de concesión firmado con InfraBuild prevé la construcción de 10 puentes en los próximos 5 años.\n",
      " - El (LABEL_0)\n",
      " -  acuerdo (LABEL_1)\n",
      " -  entre la compañía (LABEL_0)\n",
      " -  ACME (LABEL_1)\n",
      " -  Corp. (LABEL_0)\n",
      " -  y (LABEL_1)\n",
      " -  el distribuidor GlobalTech garantiza la entrega en un máximo de 45 (LABEL_0)\n",
      " -  días (LABEL_1)\n",
      " - .Según (LABEL_0)\n",
      " -  la (LABEL_1)\n",
      " -  Ley 12 (LABEL_0)\n",
      " - /2020 (LABEL_1)\n",
      " -  de Transparencia, (LABEL_0)\n",
      " -  las (LABEL_1)\n",
      " -  instituciones deben (LABEL_0)\n",
      " -  publicar informes (LABEL_1)\n",
      " -  anuales de sus (LABEL_0)\n",
      " -  actividades (LABEL_1)\n",
      " - .El (LABEL_0)\n",
      " -  proveedor SoftSys (LABEL_1)\n",
      " - tems deberá (LABEL_0)\n",
      " -  suministrar (LABEL_1)\n",
      " -  el software antes del (LABEL_0)\n",
      " -  15 (LABEL_1)\n",
      " -  de marzo de (LABEL_0)\n",
      " -  20 (LABEL_1)\n",
      " - 24, según lo (LABEL_0)\n",
      " -  pactado (LABEL_1)\n",
      " -  en el contrato.La empresa Innova (LABEL_0)\n",
      " - tech firmó (LABEL_1)\n",
      " -  un convenio (LABEL_0)\n",
      " -  con (LABEL_1)\n",
      " -  la Universidad Nacional para (LABEL_0)\n",
      " -  el desarrollo de nuevas tecnologías (LABEL_1)\n",
      " - .De (LABEL_0)\n",
      " -  acuerdo con el (LABEL_1)\n",
      " -  Decreto 45 (LABEL_0)\n",
      " - 8/2019 (LABEL_1)\n",
      " - , (LABEL_0)\n",
      " -  las (LABEL_1)\n",
      " -  entidades bancarias deben (LABEL_0)\n",
      " -  implementar medidas (LABEL_1)\n",
      " -  de ciberseguridad.El contrato (LABEL_0)\n",
      " -  firmado con DataS (LABEL_1)\n",
      " - ecure (LABEL_0)\n",
      " -  esti (LABEL_1)\n",
      " - pula que (LABEL_0)\n",
      " -  los (LABEL_1)\n",
      " -  servidores estarán (LABEL_0)\n",
      " -  operativos (LABEL_1)\n",
      " -  24 (LABEL_0)\n",
      " - /7 (LABEL_1)\n",
      " -  durante cinco años. (LABEL_0)\n",
      " - La (LABEL_1)\n",
      " -  normativa (LABEL_0)\n",
      " -  ISO 27001 (LABEL_1)\n",
      " -  establece (LABEL_0)\n",
      " -  los estándares de seguridad (LABEL_1)\n",
      " -  en la gestión de (LABEL_0)\n",
      " -  datos (LABEL_1)\n",
      " -  empresariales.El Ministerio de Salud (LABEL_0)\n",
      " -  emitió (LABEL_1)\n",
      " -  la (LABEL_0)\n",
      " -  Resolución (LABEL_1)\n",
      " -  18 (LABEL_0)\n",
      " - 9 (LABEL_1)\n",
      " - / (LABEL_0)\n",
      " - 2021 (LABEL_1)\n",
      " -  sobre (LABEL_0)\n",
      " -  la (LABEL_1)\n",
      " -  regulación de medicamentos genéricos.La multinacional (LABEL_0)\n",
      " -  TechS (LABEL_1)\n",
      " - olutions anunció una (LABEL_0)\n",
      " -  inversión (LABEL_1)\n",
      " -  de 10 millones de euros en (LABEL_0)\n",
      " -  inteligencia artificial (LABEL_1)\n",
      " - .La Ley Orgánica 3/ (LABEL_0)\n",
      " - 2018 regula el tratamiento de datos (LABEL_1)\n",
      " -  personales en el ámbito empresarial.El acuerdo comercial entre EU (LABEL_0)\n",
      " -  y (LABEL_1)\n",
      " -  México establece aranceles reducidos para la (LABEL_0)\n",
      " -  importación (LABEL_1)\n",
      " -  de (LABEL_0)\n",
      " -  tecnología (LABEL_1)\n",
      " - .El Banco Nacional deberá (LABEL_0)\n",
      " -  cumplir con las regulaciones (LABEL_1)\n",
      " -  de (LABEL_0)\n",
      " -  la (LABEL_1)\n",
      " -  Ley 45/ (LABEL_0)\n",
      " - 2022 sobre (LABEL_1)\n",
      " -  transparencia financiera.La empresa Log (LABEL_0)\n",
      " - i (LABEL_1)\n",
      " - Transport (LABEL_0)\n",
      " -  acordó con (LABEL_1)\n",
      " -  la municipalidad (LABEL_0)\n",
      " -  mejorar las rutas (LABEL_1)\n",
      " -  de distribución en un plazo de 6 (LABEL_0)\n",
      " -  meses (LABEL_1)\n",
      " - .El Reglamento Europeo 6 (LABEL_0)\n",
      " - 79/ (LABEL_1)\n",
      " - 2016 establece normas (LABEL_0)\n",
      " -  estrictas sobre la protección de datos personales (LABEL_1)\n",
      " - .La Ley 15/ (LABEL_0)\n",
      " - 2019 (LABEL_1)\n",
      " -  obliga (LABEL_0)\n",
      " -  a las (LABEL_1)\n",
      " -  compañías aseguradoras (LABEL_0)\n",
      " -  a ofrecer (LABEL_1)\n",
      " -  cobertura mínima a sus (LABEL_0)\n",
      " -  clientes (LABEL_1)\n",
      " - .Según el contrato (LABEL_0)\n",
      " -  con (LABEL_1)\n",
      " -  PharmaMed, los hospitales recibirán insumos médicos cada trimestre.El gobierno (LABEL_0)\n",
      " -  firmó (LABEL_1)\n",
      " -  un convenio (LABEL_0)\n",
      " -  con Energy (LABEL_1)\n",
      " - Green para el desarrollo (LABEL_0)\n",
      " -  de energías renovables (LABEL_1)\n",
      " - .La Resolución 320/ (LABEL_0)\n",
      " - 2020 (LABEL_1)\n",
      " -  impone límites a la publicidad de productos con alto (LABEL_0)\n",
      " -  contenido (LABEL_1)\n",
      " -  de (LABEL_0)\n",
      " -  azúcar (LABEL_1)\n",
      " - .La (LABEL_0)\n",
      " -  startup (LABEL_1)\n",
      " -  Fin (LABEL_0)\n",
      " - Tech (LABEL_1)\n",
      " - Go recibió una ronda de financiamiento de 5 millones de (LABEL_0)\n",
      " -  dólares (LABEL_1)\n",
      " - .La Ley Federal de Protección al Consumidor exige que (LABEL_0)\n",
      " -  los (LABEL_1)\n",
      " -  productos incluyan información nutricional clara.El contrato entre el Gobierno de España (LABEL_0)\n",
      " -  y Cy (LABEL_1)\n",
      " - berDefend (LABEL_0)\n",
      " -  cubre la (LABEL_1)\n",
      " -  seguridad cibern (LABEL_0)\n",
      " - ética (LABEL_1)\n",
      " -  en infraestructuras críticas.El fabricante (LABEL_0)\n",
      " -  de (LABEL_1)\n",
      " -  automóviles Auto (LABEL_0)\n",
      " - Mundo (LABEL_1)\n",
      " -  anunció una alianza (LABEL_0)\n",
      " -  con (LABEL_1)\n",
      " -  EcoB (LABEL_0)\n",
      " - attery (LABEL_1)\n",
      " -  para vehículos eléctricos.Según (LABEL_0)\n",
      " -  la (LABEL_1)\n",
      " -  Ley 23 (LABEL_0)\n",
      " - /2017 (LABEL_1)\n",
      " - , (LABEL_0)\n",
      " -  los (LABEL_1)\n",
      " -  comercios deben (LABEL_0)\n",
      " -  aceptar (LABEL_1)\n",
      " -  pagos electrónicos sin recargos adicionales.La aerolínea (LABEL_0)\n",
      " -  Sky (LABEL_1)\n",
      " - Travel (LABEL_0)\n",
      " -  firmó (LABEL_1)\n",
      " -  un (LABEL_0)\n",
      " -  acuerdo con (LABEL_1)\n",
      " -  la Agencia (LABEL_0)\n",
      " -  Europea (LABEL_1)\n",
      " -  de Seguridad Aérea para (LABEL_0)\n",
      " -  modernizar (LABEL_1)\n",
      " -  sus (LABEL_0)\n",
      " -  aviones (LABEL_1)\n",
      " - .La nueva Ley 89 (LABEL_0)\n",
      " - /20 (LABEL_1)\n",
      " - 21 busca reducir las emisiones de CO� (LABEL_0)\n",
      " - � (LABEL_1)\n",
      " -  en un (LABEL_0)\n",
      " -  30 (LABEL_1)\n",
      " -  por (LABEL_0)\n",
      " -  ciento (LABEL_1)\n",
      " -  antes de (LABEL_0)\n",
      " -  2030 (LABEL_1)\n",
      " - .El Tribunal (LABEL_0)\n",
      " -  Supremo (LABEL_1)\n",
      " -  falló (LABEL_0)\n",
      " -  a (LABEL_1)\n",
      " -  favor (LABEL_0)\n",
      " -  de (LABEL_1)\n",
      " -  la (LABEL_0)\n",
      " -  empresa (LABEL_1)\n",
      " -  Solar (LABEL_0)\n",
      " - Tech (LABEL_1)\n",
      " -  en un litigio por (LABEL_0)\n",
      " -  patentes (LABEL_1)\n",
      " - .El contrato (LABEL_0)\n",
      " -  con (LABEL_1)\n",
      " -  la (LABEL_0)\n",
      " -  aseguradora (LABEL_1)\n",
      " -  GlobalProtect establece una cobertura total de (LABEL_0)\n"
     ]
    }
   ],
   "source": [
    "print(\"\\n===== Análisis con Transformers =====\")\n",
    "for texto in textos:\n",
    "    entidades = ner_pipeline(texto)\n",
    "    print(\"\\nTexto:\", texto)\n",
    "    if entidades:\n",
    "        for ent in entidades:\n",
    "            print(f\" - {ent['word']} ({ent['entity_group']})\")\n",
    "    else:\n",
    "        print(\" - No se encontraron entidades.\")"
   ]
  },
  {
   "cell_type": "markdown",
   "metadata": {},
   "source": [
    "### 6. Evaluación del rendimiento del modelo"
   ]
  },
  {
   "cell_type": "code",
   "execution_count": 6,
   "metadata": {},
   "outputs": [
    {
     "name": "stdout",
     "output_type": "stream",
     "text": [
      "\n",
      "===== Evaluación del modelo =====\n",
      "              precision    recall  f1-score   support\n",
      "\n",
      "          AW       1.00      1.00      1.00         1\n",
      "          ER       1.00      1.00      1.00         1\n",
      "         ISC       1.00      1.00      1.00         7\n",
      "\n",
      "   micro avg       1.00      1.00      1.00         9\n",
      "   macro avg       1.00      1.00      1.00         9\n",
      "weighted avg       1.00      1.00      1.00         9\n",
      "\n"
     ]
    },
    {
     "name": "stderr",
     "output_type": "stream",
     "text": [
      "c:\\Users\\ESP\\Desktop\\ModelosIA\\.venv\\Lib\\site-packages\\seqeval\\metrics\\sequence_labeling.py:171: UserWarning: ORG seems not to be NE tag.\n",
      "  warnings.warn('{} seems not to be NE tag.'.format(chunk))\n",
      "c:\\Users\\ESP\\Desktop\\ModelosIA\\.venv\\Lib\\site-packages\\seqeval\\metrics\\sequence_labeling.py:171: UserWarning: LAW seems not to be NE tag.\n",
      "  warnings.warn('{} seems not to be NE tag.'.format(chunk))\n",
      "c:\\Users\\ESP\\Desktop\\ModelosIA\\.venv\\Lib\\site-packages\\seqeval\\metrics\\sequence_labeling.py:171: UserWarning: MISC seems not to be NE tag.\n",
      "  warnings.warn('{} seems not to be NE tag.'.format(chunk))\n",
      "c:\\Users\\ESP\\Desktop\\ModelosIA\\.venv\\Lib\\site-packages\\seqeval\\metrics\\sequence_labeling.py:171: UserWarning: PER seems not to be NE tag.\n",
      "  warnings.warn('{} seems not to be NE tag.'.format(chunk))\n"
     ]
    }
   ],
   "source": [
    "print(\"\\n===== Evaluación del modelo =====\")\n",
    "\n",
    "# Datos reales y predicciones simuladas (esto debe ser reemplazado con datos reales)\n",
    "y_true = [[\"ORG\", \"LAW\"], [\"ORG\"], [\"MISC\"], [\"PER\"], [\"MISC\"], [\"MISC\"], [\"MISC\"], [\"MISC\"], [\"MISC\"], [\"MISC\"]]\n",
    "y_pred = [[\"ORG\", \"LAW\"], [\"ORG\"], [\"MISC\"], [\"PER\"], [\"MISC\"], [\"MISC\"], [\"MISC\"], [\"MISC\"], [\"MISC\"], [\"MISC\"]]\n",
    "\n",
    "# Evaluación con seqeval (para NER)\n",
    "print(seqeval_report(y_true, y_pred))"
   ]
  },
  {
   "cell_type": "markdown",
   "metadata": {},
   "source": [
    "### 7. Evaluación con Scikit-learn"
   ]
  },
  {
   "cell_type": "code",
   "execution_count": null,
   "metadata": {},
   "outputs": [
    {
     "name": "stdout",
     "output_type": "stream",
     "text": [
      "              precision    recall  f1-score   support\n",
      "\n",
      "         LAW       1.00      1.00      1.00         1\n",
      "        MISC       1.00      1.00      1.00         7\n",
      "         ORG       1.00      1.00      1.00         2\n",
      "         PER       1.00      1.00      1.00         1\n",
      "\n",
      "    accuracy                           1.00        11\n",
      "   macro avg       1.00      1.00      1.00        11\n",
      "weighted avg       1.00      1.00      1.00        11\n",
      "\n"
     ]
    }
   ],
   "source": [
    "y_true_flat = [label for sublist in y_true for label in sublist]\n",
    "y_pred_flat = [label for sublist in y_pred for label in sublist]\n",
    "print(classification_report(y_true_flat, y_pred_flat))"
   ]
  },
  {
   "cell_type": "code",
   "execution_count": 9,
   "metadata": {},
   "outputs": [
    {
     "data": {
      "image/png": "[encoded data removed]",
      "text/plain": [
       "<Figure size 800x600 with 2 Axes>"
      ]
     },
     "metadata": {},
     "output_type": "display_data"
    }
   ],
   "source": [
    "# Crear la matriz de confusión\n",
    "conf_matrix = confusion_matrix(y_true_flat, y_pred_flat)\n",
    "\n",
    "# Etiquetas correctas para las 10 clases\n",
    "labels = [\"Class {}\".format(i) for i in range(4)]\n",
    "\n",
    "# Mostrar matriz de confusión con heatmap\n",
    "plt.figure(figsize=(8, 6))\n",
    "sns.heatmap(conf_matrix, annot=True, fmt='d', cmap='Blues',\n",
    "            xticklabels=labels, yticklabels=labels)\n",
    "plt.title(\"Matriz de Confusión\")\n",
    "plt.xlabel(\"Predicción\")\n",
    "plt.ylabel(\"Real\")\n",
    "plt.show()"
   ]
  }
 ],
 "metadata": {
  "kernelspec": {
   "display_name": ".venv",
   "language": "python",
   "name": "python3"
  },
  "language_info": {
   "codemirror_mode": {
    "name": "ipython",
    "version": 3
   },
   "file_extension": ".py",
   "mimetype": "text/x-python",
   "name": "python",
   "nbconvert_exporter": "python",
   "pygments_lexer": "ipython3",
   "version": "3.12.7"
  }
 },
 "nbformat": 4,
 "nbformat_minor": 2
}
