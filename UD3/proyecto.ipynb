{
 "cells": [
  {
   "cell_type": "markdown",
   "metadata": {},
   "source": [
    "# Reconocimiento de Entidades Nombradas (NER)\n"
   ]
  },
  {
   "cell_type": "markdown",
   "metadata": {},
   "source": [
    "### Autores: Lucas Tarazona y Samuel Arteaga"
   ]
  },
  {
   "cell_type": "markdown",
   "metadata": {},
   "source": [
    "### 1. Importación de librerías"
   ]
  },
  {
   "cell_type": "code",
   "execution_count": null,
   "metadata": {},
   "outputs": [],
   "source": [
    "import spacy\n",
    "from transformers import pipeline\n",
    "from sklearn.metrics import classification_report\n",
    "from seqeval.metrics import classification_report as seqeval_report"
   ]
  },
  {
   "cell_type": "markdown",
   "metadata": {},
   "source": [
    "### 2. Textos a analizar"
   ]
  },
  {
   "cell_type": "code",
   "execution_count": null,
   "metadata": {},
   "outputs": [],
   "source": [
    "textos = list(set([\n",
    "    \"El contrato entre Empresa XYZ y el proveedor ABC establece que la entrega de los bienes deberá realizarse en un plazo no mayor a 30 días desde la firma del acuerdo.\",\n",
    "    \"Según la Ley 25/2018 de Protección de Datos, todas las empresas deben garantizar la privacidad de la información de sus clientes y empleados.\",\n",
    "    \"El mercado bursátil experimentó una fuerte caída hoy debido a la incertidumbre económica global. Los analistas prevén una recuperación en los próximos meses, pero los inversionistas están preocupados.\",\n",
    "    \"La selección nacional de fútbol ganó el campeonato con una actuación espectacular. Los aficionados celebraron en las calles hasta altas horas de la madrugada.\",\n",
    "    \"Un nuevo estudio revela que el cambio climático está afectando la biodiversidad de los océanos, con consecuencias impredecibles para el ecosistema marino.\",\n",
    "    \"Compré este teléfono hace un mes y ha sido una gran decepción. La batería dura muy poco y la cámara tiene una calidad pésima. No lo recomendaría.\",\n",
    "    \"Este libro es increíble. La historia es atrapante y los personajes están muy bien desarrollados. ¡Uno de los mejores que he leído este año!\",\n",
    "    \"El restaurante tenía un ambiente agradable, pero el servicio fue muy lento. La comida estaba bien, aunque esperaba algo mejor por el precio.\",\n",
    "    \"Hola, quisiera saber el estado de mi pedido número 12345.\",\n",
    "    \"Déjame verificar... Tu pedido ha sido enviado y llegará en 3 días.\",\n",
    "    \"Necesito cancelar mi suscripción al servicio.\",\n",
    "    \"Para proceder con la cancelación, dime tu número de cuenta o correo electrónico asociado.\"\n",
    "]))"
   ]
  },
  {
   "cell_type": "markdown",
   "metadata": {},
   "source": [
    "### 3. Carga de modelos"
   ]
  },
  {
   "cell_type": "code",
   "execution_count": null,
   "metadata": {},
   "outputs": [
    {
     "name": "stdout",
     "output_type": "stream",
     "text": [
      "\n",
      "Texto: El contrato entre Empresa XYZ y el proveedor ABC establece que la entrega de los bienes deberá realizarse en un plazo no mayor a 30 días desde la firma del acuerdo.\n",
      "Entidades reconocidas:\n",
      " - Empresa (LOC)\n",
      " - ABC (ORG)\n",
      "\n",
      "Texto: Según la Ley 25/2018 de Protección de Datos, todas las empresas deben garantizar la privacidad de la información de sus clientes y empleados.\n",
      "Entidades reconocidas:\n",
      " - Según la Ley (PER)\n",
      " - Protección de Datos (LOC)\n",
      "\n",
      "Texto: El mercado bursátil experimentó una fuerte caída hoy debido a la incertidumbre económica global. Los analistas prevén una recuperación en los próximos meses, pero los inversionistas están preocupados.\n",
      "Entidades reconocidas:\n",
      " - Los analistas (MISC)\n",
      "\n",
      "Texto: La selección nacional de fútbol ganó el campeonato con una actuación espectacular. Los aficionados celebraron en las calles hasta altas horas de la madrugada.\n",
      "Entidades reconocidas:\n",
      "\n",
      "Texto: Un nuevo estudio revela que el cambio climático está afectando la biodiversidad de los océanos, con consecuencias impredecibles para el ecosistema marino.\n",
      "Entidades reconocidas:\n",
      "\n",
      "Texto: Compré este teléfono hace un mes y ha sido una gran decepción. La batería dura muy poco y la cámara tiene una calidad pésima. No lo recomendaría.\n",
      "Entidades reconocidas:\n",
      " - La batería dura muy poco y la cámara (MISC)\n",
      " - No lo recomendaría (MISC)\n",
      "\n",
      "Texto: Este libro es increíble. La historia es atrapante y los personajes están muy bien desarrollados. ¡Uno de los mejores que he leído este año!\n",
      "Entidades reconocidas:\n",
      " - La historia (MISC)\n",
      "\n",
      "Texto: El restaurante tenía un ambiente agradable, pero el servicio fue muy lento. La comida estaba bien, aunque esperaba algo mejor por el precio.\n",
      "Entidades reconocidas:\n",
      " - La comida estaba bien (MISC)\n",
      "\n",
      "Texto: El contrato entre Empresa XYZ y el proveedor ABC establece que la entrega de los bienes deberá realizarse en un plazo no mayor a 30 días desde la firma del acuerdo.\n",
      "Entidades reconocidas:\n",
      " - Empresa (LOC)\n",
      " - ABC (ORG)\n",
      "\n",
      "Texto: Según la Ley 25/2018 de Protección de Datos, todas las empresas deben garantizar la privacidad de la información de sus clientes y empleados.Hola, quisiera saber el estado de mi pedido número 12345.\n",
      "Entidades reconocidas:\n",
      " - Según la Ley (PER)\n",
      " - Protección de Datos (LOC)\n",
      " - Hola (LOC)\n",
      "\n",
      "Texto: Déjame verificar... Tu pedido ha sido enviado y llegará en 3 días.\n",
      "Entidades reconocidas:\n",
      " - Déjame (PER)\n",
      "\n",
      "Texto: Necesito cancelar mi suscripción al servicio.\n",
      "Entidades reconocidas:\n",
      "\n",
      "Texto: Para proceder con la cancelación, dime tu número de cuenta o correo electrónico asociado.\n",
      "Entidades reconocidas:\n"
     ]
    }
   ],
   "source": [
    "nlp = spacy.load(\"es_core_news_sm\")  # Modelo de Spacy\n",
    "ner_pipeline = pipeline(\"ner\", model=\"PlanTL-GOB-ES/roberta-base-bne\", aggregation_strategy=\"simple\")"
   ]
  },
  {
   "cell_type": "markdown",
   "metadata": {},
   "source": [
    "### 4. Evaluación de NER con spaCy"
   ]
  },
  {
   "cell_type": "code",
   "execution_count": null,
   "metadata": {},
   "outputs": [
    {
     "name": "stderr",
     "output_type": "stream",
     "text": [
      "Some weights of RobertaForTokenClassification were not initialized from the model checkpoint at PlanTL-GOB-ES/roberta-base-bne and are newly initialized: ['classifier.bias', 'classifier.weight']\n",
      "You should probably TRAIN this model on a down-stream task to be able to use it for predictions and inference.\n",
      "Device set to use cpu\n"
     ]
    },
    {
     "name": "stdout",
     "output_type": "stream",
     "text": [
      "\n",
      "Texto: El contrato entre Empresa XYZ y el proveedor ABC establece que la entrega de los bienes deberá realizarse en un plazo no mayor a 30 días desde la firma del acuerdo.\n",
      " - El (LABEL_0)\n",
      " -  contrato entre Empresa XYZ y (LABEL_1)\n",
      " -  el (LABEL_0)\n",
      " -  proveedor ABC (LABEL_1)\n",
      " -  establece (LABEL_0)\n",
      " -  que la entrega de (LABEL_1)\n",
      " -  los (LABEL_0)\n",
      " -  bienes (LABEL_1)\n",
      " -  deberá (LABEL_0)\n",
      " -  realizarse en un (LABEL_1)\n",
      " -  plazo (LABEL_0)\n",
      " -  no mayor a 30 días desde la firma (LABEL_1)\n",
      " -  del (LABEL_0)\n",
      " -  acuerdo. (LABEL_1)\n",
      "\n",
      "Texto: Según la Ley 25/2018 de Protección de Datos, todas las empresas deben garantizar la privacidad de la información de sus clientes y empleados.\n",
      " - Según (LABEL_1)\n",
      " -  la (LABEL_0)\n",
      " -  Ley (LABEL_1)\n",
      " -  25/2018 de Protección de Datos (LABEL_0)\n",
      " - , todas las empresas deben garantizar la privacidad de la información de sus clientes y empleados. (LABEL_1)\n",
      "\n",
      "Texto: El mercado bursátil experimentó una fuerte caída hoy debido a la incertidumbre económica global. Los analistas prevén una recuperación en los próximos meses, pero los inversionistas están preocupados.\n",
      " - El (LABEL_0)\n",
      " -  mercado bursátil experimentó una fuerte (LABEL_1)\n",
      " -  caída (LABEL_0)\n",
      " -  hoy debido a la incertidumbre económica global. (LABEL_1)\n",
      " -  Los (LABEL_0)\n",
      " -  analistas (LABEL_1)\n",
      " -  prevén (LABEL_0)\n",
      " -  una recuperación en (LABEL_1)\n",
      " -  los próximos (LABEL_0)\n",
      " -  meses, pero los inversionistas están preocupados. (LABEL_1)\n",
      "\n",
      "Texto: La selección nacional de fútbol ganó el campeonato con una actuación espectacular. Los aficionados celebraron en las calles hasta altas horas de la madrugada.\n",
      " - La selección nacional de fútbol ganó el campeonato con una actuación espectacular. (LABEL_1)\n",
      " -  Los (LABEL_0)\n",
      " -  aficionados celebraron en las calles hasta altas horas de la madrugada. (LABEL_1)\n",
      "\n",
      "Texto: Un nuevo estudio revela que el cambio climático está afectando la biodiversidad de los océanos, con consecuencias impredecibles para el ecosistema marino.\n",
      " - Un nuevo estudio revela (LABEL_0)\n",
      " -  que el cambio climático está afectando la biodiversidad de (LABEL_1)\n",
      " -  los (LABEL_0)\n",
      " -  océanos (LABEL_1)\n",
      " - , con (LABEL_0)\n",
      " -  consecuencias (LABEL_1)\n",
      " -  impredeci (LABEL_0)\n",
      " - bles para (LABEL_1)\n",
      " -  el ecosistema marino (LABEL_0)\n",
      " - . (LABEL_1)\n",
      "\n",
      "Texto: Compré este teléfono hace un mes y ha sido una gran decepción. La batería dura muy poco y la cámara tiene una calidad pésima. No lo recomendaría.\n",
      " - Compré este teléfono hace un mes y (LABEL_1)\n",
      " -  ha (LABEL_0)\n",
      " -  sido una gran decepción. (LABEL_1)\n",
      " -  La (LABEL_0)\n",
      " -  batería dura muy poco y (LABEL_1)\n",
      " -  la (LABEL_0)\n",
      " -  cámara tiene una calidad pésima. No lo recomendaría. (LABEL_1)\n",
      "\n",
      "Texto: Este libro es increíble. La historia es atrapante y los personajes están muy bien desarrollados. ¡Uno de los mejores que he leído este año!\n",
      " - Este libro es increíble. (LABEL_1)\n",
      " -  La (LABEL_0)\n",
      " -  historia es atrapante y (LABEL_1)\n",
      " -  los (LABEL_0)\n",
      " -  personajes están muy bien desarrollados. (LABEL_1)\n",
      " -  ¡ (LABEL_0)\n",
      " - Uno de los mejores que he leído este año! (LABEL_1)\n",
      "\n",
      "Texto: El restaurante tenía un ambiente agradable, pero el servicio fue muy lento. La comida estaba bien, aunque esperaba algo mejor por el precio.\n",
      " - El (LABEL_0)\n",
      " -  restaurante tenía un ambiente agradable, pero el servicio (LABEL_1)\n",
      " -  fue (LABEL_0)\n",
      " -  muy lento. (LABEL_1)\n",
      " -  La (LABEL_0)\n",
      " -  comida estaba bien, aunque (LABEL_1)\n",
      " -  esperaba (LABEL_0)\n",
      " -  algo mejor por el precio. (LABEL_1)\n",
      "\n",
      "Texto: El contrato entre Empresa XYZ y el proveedor ABC establece que la entrega de los bienes deberá realizarse en un plazo no mayor a 30 días desde la firma del acuerdo.\n",
      " - El (LABEL_0)\n",
      " -  contrato entre Empresa XYZ y (LABEL_1)\n",
      " -  el (LABEL_0)\n",
      " -  proveedor ABC (LABEL_1)\n",
      " -  establece (LABEL_0)\n",
      " -  que la entrega de (LABEL_1)\n",
      " -  los (LABEL_0)\n",
      " -  bienes (LABEL_1)\n",
      " -  deberá (LABEL_0)\n",
      " -  realizarse en un (LABEL_1)\n",
      " -  plazo (LABEL_0)\n",
      " -  no mayor a 30 días desde la firma (LABEL_1)\n",
      " -  del (LABEL_0)\n",
      " -  acuerdo. (LABEL_1)\n",
      "\n",
      "Texto: Según la Ley 25/2018 de Protección de Datos, todas las empresas deben garantizar la privacidad de la información de sus clientes y empleados.Hola, quisiera saber el estado de mi pedido número 12345.\n",
      " - Según (LABEL_1)\n",
      " -  la (LABEL_0)\n",
      " -  Ley (LABEL_1)\n",
      " -  25/2018 de Protección de Datos (LABEL_0)\n",
      " - , todas las empresas deben garantizar la privacidad de la información de sus clientes y empleados.Hola, quisiera (LABEL_1)\n",
      " -  saber (LABEL_0)\n",
      " -  el estado de mi pedido número 12345. (LABEL_1)\n",
      "\n",
      "Texto: Déjame verificar... Tu pedido ha sido enviado y llegará en 3 días.\n",
      " - Dé (LABEL_0)\n",
      " - jame (LABEL_1)\n",
      " -  verificar (LABEL_0)\n",
      " - ... (LABEL_1)\n",
      " -  Tu (LABEL_0)\n",
      " -  pedido ha (LABEL_1)\n",
      " -  sido (LABEL_0)\n",
      " -  enviado (LABEL_1)\n",
      " -  y (LABEL_0)\n",
      " -  llegará (LABEL_1)\n",
      " -  en (LABEL_0)\n",
      " -  3 días. (LABEL_1)\n",
      "\n",
      "Texto: Necesito cancelar mi suscripción al servicio.\n",
      " - Necesito (LABEL_0)\n",
      " -  cancelar mi suscripción (LABEL_1)\n",
      " -  al (LABEL_0)\n",
      " -  servicio. (LABEL_1)\n",
      "\n",
      "Texto: Para proceder con la cancelación, dime tu número de cuenta o correo electrónico asociado.\n",
      " - Para proceder (LABEL_0)\n",
      " -  con la cancelación, (LABEL_1)\n",
      " -  dime (LABEL_0)\n",
      " -  tu número de cuenta (LABEL_1)\n",
      " -  o (LABEL_0)\n",
      " -  correo electrónico (LABEL_1)\n",
      " -  asociado (LABEL_0)\n",
      " - . (LABEL_1)\n"
     ]
    }
   ],
   "source": [
    "print(\"\\n===== Análisis con spaCy =====\")\n",
    "for texto in textos:\n",
    "    doc = nlp(texto)\n",
    "    print(\"\\nTexto:\", texto)\n",
    "    if doc.ents:\n",
    "        print(\"Entidades reconocidas:\")\n",
    "        for ent in doc.ents:\n",
    "            print(f\" - {ent.text} ({ent.label_})\")\n",
    "    else:\n",
    "        print(\" - No se encontraron entidades.\")"
   ]
  },
  {
   "cell_type": "markdown",
   "metadata": {},
   "source": [
    "### 5. Evaluación de NER con Hugging Face Transformers"
   ]
  },
  {
   "cell_type": "code",
   "execution_count": null,
   "metadata": {},
   "outputs": [
    {
     "name": "stdout",
     "output_type": "stream",
     "text": [
      "              precision    recall  f1-score   support\n",
      "\n",
      "         LAW       1.00      1.00      1.00         1\n",
      "         ORG       1.00      1.00      1.00         1\n",
      "\n",
      "    accuracy                           1.00         2\n",
      "   macro avg       1.00      1.00      1.00         2\n",
      "weighted avg       1.00      1.00      1.00         2\n",
      "\n"
     ]
    }
   ],
   "source": [
    "print(\"\\n===== Análisis con Transformers =====\")\n",
    "for texto in textos:\n",
    "    entidades = ner_pipeline(texto)\n",
    "    print(\"\\nTexto:\", texto)\n",
    "    if entidades:\n",
    "        for ent in entidades:\n",
    "            print(f\" - {ent['word']} ({ent['entity_group']})\")\n",
    "    else:\n",
    "        print(\" - No se encontraron entidades.\")"
   ]
  },
  {
   "cell_type": "markdown",
   "metadata": {},
   "source": [
    "### 6. Evaluación del rendimiento del modelo"
   ]
  },
  {
   "cell_type": "code",
   "execution_count": null,
   "metadata": {},
   "outputs": [],
   "source": [
    "# \n",
    "print(\"\\n===== Evaluación del modelo =====\")\n",
    "\n",
    "# Datos reales y predicciones simuladas (esto debe ser reemplazado con datos reales)\n",
    "y_true = [[\"ORG\", \"LAW\"], [\"ORG\"], [\"MISC\"], [\"PER\"], [\"MISC\"], [\"MISC\"], [\"MISC\"], [\"MISC\"], [\"MISC\"], [\"MISC\"]]\n",
    "y_pred = [[\"ORG\", \"LAW\"], [\"ORG\"], [\"MISC\"], [\"PER\"], [\"MISC\"], [\"MISC\"], [\"MISC\"], [\"MISC\"], [\"MISC\"], [\"MISC\"]]\n",
    "\n",
    "# Evaluación con seqeval (para NER)\n",
    "print(seqeval_report(y_true, y_pred))"
   ]
  },
  {
   "cell_type": "markdown",
   "metadata": {},
   "source": [
    "### 7. Evaluación con Scikit-learn"
   ]
  },
  {
   "cell_type": "code",
   "execution_count": null,
   "metadata": {},
   "outputs": [],
   "source": [
    "y_true_flat = [label for sublist in y_true for label in sublist]\n",
    "y_pred_flat = [label for sublist in y_pred for label in sublist]\n",
    "print(classification_report(y_true_flat, y_pred_flat))"
   ]
  }
 ],
 "metadata": {
  "kernelspec": {
   "display_name": ".venv",
   "language": "python",
   "name": "python3"
  },
  "language_info": {
   "codemirror_mode": {
    "name": "ipython",
    "version": 3
   },
   "file_extension": ".py",
   "mimetype": "text/x-python",
   "name": "python",
   "nbconvert_exporter": "python",
   "pygments_lexer": "ipython3",
   "version": "3.12.7"
  }
 },
 "nbformat": 4,
 "nbformat_minor": 2
}
