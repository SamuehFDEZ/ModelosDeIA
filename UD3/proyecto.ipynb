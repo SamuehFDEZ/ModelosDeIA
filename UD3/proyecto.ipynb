{
 "cells": [
  {
   "cell_type": "markdown",
   "metadata": {},
   "source": [
    "# Reconocimiento de Entidades Nombradas (NER)\n"
   ]
  },
  {
   "cell_type": "markdown",
   "metadata": {},
   "source": [
    "### Autores: Lucas Tarazona y Samuel Arteaga"
   ]
  },
  {
   "cell_type": "markdown",
   "metadata": {},
   "source": [
    "### 1. Importación de librerías"
   ]
  },
  {
   "cell_type": "code",
   "execution_count": 2,
   "metadata": {},
   "outputs": [],
   "source": [
    "import spacy\n",
    "from transformers import pipeline\n",
    "from sklearn.metrics import classification_report\n",
    "from seqeval.metrics import classification_report as seqeval_report"
   ]
  },
  {
   "cell_type": "markdown",
   "metadata": {},
   "source": [
    "### 2. Textos a analizar"
   ]
  },
  {
   "cell_type": "code",
   "execution_count": 3,
   "metadata": {},
   "outputs": [],
   "source": [
    "textos = list(set([\n",
    "    \"El contrato entre Empresa XYZ y el proveedor ABC establece que la entrega de los bienes deberá realizarse en un plazo no mayor a 30 días desde la firma del acuerdo.\",\n",
    "    \"Según la Ley 25/2018 de Protección de Datos, todas las empresas deben garantizar la privacidad de la información de sus clientes y empleados.\",\n",
    "    \"El mercado bursátil experimentó una fuerte caída hoy debido a la incertidumbre económica global. Los analistas prevén una recuperación en los próximos meses, pero los inversionistas están preocupados.\",\n",
    "    \"La selección nacional de fútbol ganó el campeonato con una actuación espectacular. Los aficionados celebraron en las calles hasta altas horas de la madrugada.\",\n",
    "    \"Un nuevo estudio revela que el cambio climático está afectando la biodiversidad de los océanos, con consecuencias impredecibles para el ecosistema marino.\",\n",
    "    \"Compré este teléfono hace un mes y ha sido una gran decepción. La batería dura muy poco y la cámara tiene una calidad pésima. No lo recomendaría.\",\n",
    "    \"Este libro es increíble. La historia es atrapante y los personajes están muy bien desarrollados. ¡Uno de los mejores que he leído este año!\",\n",
    "    \"El restaurante tenía un ambiente agradable, pero el servicio fue muy lento. La comida estaba bien, aunque esperaba algo mejor por el precio.\",\n",
    "    \"Hola, quisiera saber el estado de mi pedido número 12345.\",\n",
    "    \"Déjame verificar... Tu pedido ha sido enviado y llegará en 3 días.\",\n",
    "    \"Necesito cancelar mi suscripción al servicio.\",\n",
    "    \"Para proceder con la cancelación, dime tu número de cuenta o correo electrónico asociado.\"\n",
    "]))"
   ]
  },
  {
   "cell_type": "markdown",
   "metadata": {},
   "source": [
    "### 3. Carga de modelos"
   ]
  },
  {
   "cell_type": "code",
   "execution_count": 4,
   "metadata": {},
   "outputs": [
    {
     "name": "stderr",
     "output_type": "stream",
     "text": [
      "Some weights of RobertaForTokenClassification were not initialized from the model checkpoint at PlanTL-GOB-ES/roberta-base-bne and are newly initialized: ['classifier.bias', 'classifier.weight']\n",
      "You should probably TRAIN this model on a down-stream task to be able to use it for predictions and inference.\n",
      "Device set to use cpu\n"
     ]
    }
   ],
   "source": [
    "nlp = spacy.load(\"es_core_news_sm\")  # Modelo de Spacy\n",
    "ner_pipeline = pipeline(\"ner\", model=\"PlanTL-GOB-ES/roberta-base-bne\", aggregation_strategy=\"simple\")"
   ]
  },
  {
   "cell_type": "markdown",
   "metadata": {},
   "source": [
    "### 4. Evaluación de NER con spaCy"
   ]
  },
  {
   "cell_type": "code",
   "execution_count": 5,
   "metadata": {},
   "outputs": [
    {
     "name": "stdout",
     "output_type": "stream",
     "text": [
      "\n",
      "===== Análisis con spaCy =====\n",
      "\n",
      "Texto: Hola, quisiera saber el estado de mi pedido número 12345.\n",
      "Entidades reconocidas:\n",
      " - Hola (LOC)\n",
      "\n",
      "Texto: Según la Ley 25/2018 de Protección de Datos, todas las empresas deben garantizar la privacidad de la información de sus clientes y empleados.\n",
      "Entidades reconocidas:\n",
      " - Según la Ley (PER)\n",
      " - Protección de Datos (LOC)\n",
      "\n",
      "Texto: Este libro es increíble. La historia es atrapante y los personajes están muy bien desarrollados. ¡Uno de los mejores que he leído este año!\n",
      "Entidades reconocidas:\n",
      " - La historia (MISC)\n",
      "\n",
      "Texto: El contrato entre Empresa XYZ y el proveedor ABC establece que la entrega de los bienes deberá realizarse en un plazo no mayor a 30 días desde la firma del acuerdo.\n",
      "Entidades reconocidas:\n",
      " - Empresa (LOC)\n",
      " - ABC (ORG)\n",
      "\n",
      "Texto: El mercado bursátil experimentó una fuerte caída hoy debido a la incertidumbre económica global. Los analistas prevén una recuperación en los próximos meses, pero los inversionistas están preocupados.\n",
      "Entidades reconocidas:\n",
      " - Los analistas (MISC)\n",
      "\n",
      "Texto: Déjame verificar... Tu pedido ha sido enviado y llegará en 3 días.\n",
      "Entidades reconocidas:\n",
      " - Déjame (PER)\n",
      "\n",
      "Texto: Necesito cancelar mi suscripción al servicio.\n",
      " - No se encontraron entidades.\n",
      "\n",
      "Texto: Compré este teléfono hace un mes y ha sido una gran decepción. La batería dura muy poco y la cámara tiene una calidad pésima. No lo recomendaría.\n",
      "Entidades reconocidas:\n",
      " - La batería dura muy poco y la cámara (MISC)\n",
      " - No lo recomendaría (MISC)\n",
      "\n",
      "Texto: El restaurante tenía un ambiente agradable, pero el servicio fue muy lento. La comida estaba bien, aunque esperaba algo mejor por el precio.\n",
      "Entidades reconocidas:\n",
      " - La comida estaba bien (MISC)\n",
      "\n",
      "Texto: Un nuevo estudio revela que el cambio climático está afectando la biodiversidad de los océanos, con consecuencias impredecibles para el ecosistema marino.\n",
      " - No se encontraron entidades.\n",
      "\n",
      "Texto: Para proceder con la cancelación, dime tu número de cuenta o correo electrónico asociado.\n",
      " - No se encontraron entidades.\n",
      "\n",
      "Texto: La selección nacional de fútbol ganó el campeonato con una actuación espectacular. Los aficionados celebraron en las calles hasta altas horas de la madrugada.\n",
      " - No se encontraron entidades.\n"
     ]
    }
   ],
   "source": [
    "print(\"\\n===== Análisis con spaCy =====\")\n",
    "for texto in textos:\n",
    "    doc = nlp(texto)\n",
    "    print(\"\\nTexto:\", texto)\n",
    "    if doc.ents:\n",
    "        print(\"Entidades reconocidas:\")\n",
    "        for ent in doc.ents:\n",
    "            print(f\" - {ent.text} ({ent.label_})\")\n",
    "    else:\n",
    "        print(\" - No se encontraron entidades.\")"
   ]
  },
  {
   "cell_type": "markdown",
   "metadata": {},
   "source": [
    "### 5. Evaluación de NER con Hugging Face Transformers"
   ]
  },
  {
   "cell_type": "code",
   "execution_count": 6,
   "metadata": {},
   "outputs": [
    {
     "name": "stdout",
     "output_type": "stream",
     "text": [
      "\n",
      "===== Análisis con Transformers =====\n",
      "\n",
      "Texto: Hola, quisiera saber el estado de mi pedido número 12345.\n",
      " - Hola (LABEL_0)\n",
      " - , quisiera (LABEL_1)\n",
      " -  saber (LABEL_0)\n",
      " -  el estado de mi pedido número (LABEL_1)\n",
      " -  123 (LABEL_0)\n",
      " - 45. (LABEL_1)\n",
      "\n",
      "Texto: Según la Ley 25/2018 de Protección de Datos, todas las empresas deben garantizar la privacidad de la información de sus clientes y empleados.\n",
      " - Según la (LABEL_0)\n",
      " -  Ley 25/2018 (LABEL_1)\n",
      " -  de Protección de (LABEL_0)\n",
      " -  Datos, (LABEL_1)\n",
      " -  todas (LABEL_0)\n",
      " -  las empresas deben garantizar (LABEL_1)\n",
      " -  la privacidad de (LABEL_0)\n",
      " -  la (LABEL_1)\n",
      " -  información de sus clientes y empleados (LABEL_0)\n",
      " - . (LABEL_1)\n",
      "\n",
      "Texto: Este libro es increíble. La historia es atrapante y los personajes están muy bien desarrollados. ¡Uno de los mejores que he leído este año!\n",
      " - Este (LABEL_0)\n",
      " -  libro (LABEL_1)\n",
      " -  es increíble. La historia es (LABEL_0)\n",
      " -  atrapante y (LABEL_1)\n",
      " -  los personajes (LABEL_0)\n",
      " -  están muy (LABEL_1)\n",
      " -  bien desarrollados. (LABEL_0)\n",
      " -  ¡Uno de los mejores que (LABEL_1)\n",
      " -  he leído este (LABEL_0)\n",
      " -  año (LABEL_1)\n",
      " - ! (LABEL_0)\n",
      "\n",
      "Texto: El contrato entre Empresa XYZ y el proveedor ABC establece que la entrega de los bienes deberá realizarse en un plazo no mayor a 30 días desde la firma del acuerdo.\n",
      " - El (LABEL_0)\n",
      " -  contrato (LABEL_1)\n",
      " -  entre Empresa XY (LABEL_0)\n",
      " - Z y el proveedor ABC establece que la entrega de los bienes deberá realizarse en un (LABEL_1)\n",
      " -  plazo (LABEL_0)\n",
      " -  no mayor (LABEL_1)\n",
      " -  a 30 (LABEL_0)\n",
      " -  días desde la firma del acuerdo. (LABEL_1)\n",
      "\n",
      "Texto: El mercado bursátil experimentó una fuerte caída hoy debido a la incertidumbre económica global. Los analistas prevén una recuperación en los próximos meses, pero los inversionistas están preocupados.\n",
      " - El mercado bursátil (LABEL_0)\n",
      " -  experimentó una (LABEL_1)\n",
      " -  fuerte (LABEL_0)\n",
      " -  caída hoy (LABEL_1)\n",
      " -  debido a la (LABEL_0)\n",
      " -  incertidumbre económica global. (LABEL_1)\n",
      " -  Los analistas (LABEL_0)\n",
      " -  prevén una recuperación en (LABEL_1)\n",
      " -  los (LABEL_0)\n",
      " -  próximos meses, pero (LABEL_1)\n",
      " -  los inversionistas (LABEL_0)\n",
      " -  están preocupados. (LABEL_1)\n",
      "\n",
      "Texto: Déjame verificar... Tu pedido ha sido enviado y llegará en 3 días.\n",
      " - Dé (LABEL_0)\n",
      " - j (LABEL_1)\n",
      " - ame (LABEL_0)\n",
      " -  verificar... Tu pedido (LABEL_1)\n",
      " -  ha (LABEL_0)\n",
      " -  sido (LABEL_1)\n",
      " -  enviado (LABEL_0)\n",
      " -  y llegará (LABEL_1)\n",
      " -  en 3 (LABEL_0)\n",
      " -  días. (LABEL_1)\n",
      "\n",
      "Texto: Necesito cancelar mi suscripción al servicio.\n",
      " - Necesito (LABEL_0)\n",
      " -  cancelar mi suscripción (LABEL_1)\n",
      " -  al (LABEL_0)\n",
      " -  servicio. (LABEL_1)\n",
      "\n",
      "Texto: Compré este teléfono hace un mes y ha sido una gran decepción. La batería dura muy poco y la cámara tiene una calidad pésima. No lo recomendaría.\n",
      " - Compr (LABEL_1)\n",
      " - é (LABEL_0)\n",
      " -  este teléfono (LABEL_1)\n",
      " -  hace (LABEL_0)\n",
      " -  un mes y (LABEL_1)\n",
      " -  ha (LABEL_0)\n",
      " -  sido una (LABEL_1)\n",
      " -  gran decepción. La (LABEL_0)\n",
      " -  batería (LABEL_1)\n",
      " -  dura muy (LABEL_0)\n",
      " -  poco y (LABEL_1)\n",
      " -  la cámara tiene (LABEL_0)\n",
      " -  una (LABEL_1)\n",
      " -  calidad (LABEL_0)\n",
      " -  pésima. (LABEL_1)\n",
      " -  No (LABEL_0)\n",
      " -  lo recomend (LABEL_1)\n",
      " - aría (LABEL_0)\n",
      " - . (LABEL_1)\n",
      "\n",
      "Texto: El restaurante tenía un ambiente agradable, pero el servicio fue muy lento. La comida estaba bien, aunque esperaba algo mejor por el precio.\n",
      " - El (LABEL_0)\n",
      " -  restaurante tenía un (LABEL_1)\n",
      " -  ambiente (LABEL_0)\n",
      " -  agradable, pero el servicio fue muy (LABEL_1)\n",
      " -  lento (LABEL_0)\n",
      " - . La (LABEL_1)\n",
      " -  comida (LABEL_0)\n",
      " -  estaba (LABEL_1)\n",
      " -  bien (LABEL_0)\n",
      " - , aunque (LABEL_1)\n",
      " -  esperaba (LABEL_0)\n",
      " -  algo (LABEL_1)\n",
      " -  mejor por el precio (LABEL_0)\n",
      " - . (LABEL_1)\n",
      "\n",
      "Texto: Un nuevo estudio revela que el cambio climático está afectando la biodiversidad de los océanos, con consecuencias impredecibles para el ecosistema marino.\n",
      " - Un nuevo estudio (LABEL_1)\n",
      " -  revela (LABEL_0)\n",
      " -  que el (LABEL_1)\n",
      " -  cambio climático (LABEL_0)\n",
      " -  está (LABEL_1)\n",
      " -  afectando la biodiversidad de los océanos (LABEL_0)\n",
      " - , con (LABEL_1)\n",
      " -  consecuencias impredeci (LABEL_0)\n",
      " - bles (LABEL_1)\n",
      " -  para (LABEL_0)\n",
      " -  el (LABEL_1)\n",
      " -  ecosistema (LABEL_0)\n",
      " -  marino. (LABEL_1)\n",
      "\n",
      "Texto: Para proceder con la cancelación, dime tu número de cuenta o correo electrónico asociado.\n",
      " - Para (LABEL_0)\n",
      " -  proceder con la cancelación, (LABEL_1)\n",
      " -  dime (LABEL_0)\n",
      " -  tu número (LABEL_1)\n",
      " -  de (LABEL_0)\n",
      " -  cuenta o correo electrónico asociado. (LABEL_1)\n",
      "\n",
      "Texto: La selección nacional de fútbol ganó el campeonato con una actuación espectacular. Los aficionados celebraron en las calles hasta altas horas de la madrugada.\n",
      " - La (LABEL_0)\n",
      " -  selección (LABEL_1)\n",
      " -  nacional (LABEL_0)\n",
      " -  de fútbol ganó el campeonato con (LABEL_1)\n",
      " -  una (LABEL_0)\n",
      " -  actuación espectacular (LABEL_1)\n",
      " - . (LABEL_0)\n",
      " -  Los (LABEL_1)\n",
      " -  aficionados celebraron (LABEL_0)\n",
      " -  en (LABEL_1)\n",
      " -  las calles hasta (LABEL_0)\n",
      " -  altas horas de la madrugada (LABEL_1)\n",
      " - . (LABEL_0)\n"
     ]
    }
   ],
   "source": [
    "print(\"\\n===== Análisis con Transformers =====\")\n",
    "for texto in textos:\n",
    "    entidades = ner_pipeline(texto)\n",
    "    print(\"\\nTexto:\", texto)\n",
    "    if entidades:\n",
    "        for ent in entidades:\n",
    "            print(f\" - {ent['word']} ({ent['entity_group']})\")\n",
    "    else:\n",
    "        print(\" - No se encontraron entidades.\")"
   ]
  },
  {
   "cell_type": "markdown",
   "metadata": {},
   "source": [
    "### 6. Evaluación del rendimiento del modelo"
   ]
  },
  {
   "cell_type": "code",
   "execution_count": 7,
   "metadata": {},
   "outputs": [
    {
     "name": "stdout",
     "output_type": "stream",
     "text": [
      "\n",
      "===== Evaluación del modelo =====\n",
      "              precision    recall  f1-score   support\n",
      "\n",
      "          AW       1.00      1.00      1.00         1\n",
      "          ER       1.00      1.00      1.00         1\n",
      "         ISC       1.00      1.00      1.00         7\n",
      "\n",
      "   micro avg       1.00      1.00      1.00         9\n",
      "   macro avg       1.00      1.00      1.00         9\n",
      "weighted avg       1.00      1.00      1.00         9\n",
      "\n"
     ]
    },
    {
     "name": "stderr",
     "output_type": "stream",
     "text": [
      "c:\\Users\\ESP\\Desktop\\ModelosIA\\.venv\\Lib\\site-packages\\seqeval\\metrics\\sequence_labeling.py:171: UserWarning: ORG seems not to be NE tag.\n",
      "  warnings.warn('{} seems not to be NE tag.'.format(chunk))\n",
      "c:\\Users\\ESP\\Desktop\\ModelosIA\\.venv\\Lib\\site-packages\\seqeval\\metrics\\sequence_labeling.py:171: UserWarning: LAW seems not to be NE tag.\n",
      "  warnings.warn('{} seems not to be NE tag.'.format(chunk))\n",
      "c:\\Users\\ESP\\Desktop\\ModelosIA\\.venv\\Lib\\site-packages\\seqeval\\metrics\\sequence_labeling.py:171: UserWarning: MISC seems not to be NE tag.\n",
      "  warnings.warn('{} seems not to be NE tag.'.format(chunk))\n",
      "c:\\Users\\ESP\\Desktop\\ModelosIA\\.venv\\Lib\\site-packages\\seqeval\\metrics\\sequence_labeling.py:171: UserWarning: PER seems not to be NE tag.\n",
      "  warnings.warn('{} seems not to be NE tag.'.format(chunk))\n"
     ]
    }
   ],
   "source": [
    "# \n",
    "print(\"\\n===== Evaluación del modelo =====\")\n",
    "\n",
    "# Datos reales y predicciones simuladas (esto debe ser reemplazado con datos reales)\n",
    "y_true = [[\"ORG\", \"LAW\"], [\"ORG\"], [\"MISC\"], [\"PER\"], [\"MISC\"], [\"MISC\"], [\"MISC\"], [\"MISC\"], [\"MISC\"], [\"MISC\"]]\n",
    "y_pred = [[\"ORG\", \"LAW\"], [\"ORG\"], [\"MISC\"], [\"PER\"], [\"MISC\"], [\"MISC\"], [\"MISC\"], [\"MISC\"], [\"MISC\"], [\"MISC\"]]\n",
    "\n",
    "# Evaluación con seqeval (para NER)\n",
    "print(seqeval_report(y_true, y_pred))"
   ]
  },
  {
   "cell_type": "markdown",
   "metadata": {},
   "source": [
    "### 7. Evaluación con Scikit-learn"
   ]
  },
  {
   "cell_type": "code",
   "execution_count": 8,
   "metadata": {},
   "outputs": [
    {
     "name": "stdout",
     "output_type": "stream",
     "text": [
      "              precision    recall  f1-score   support\n",
      "\n",
      "         LAW       1.00      1.00      1.00         1\n",
      "        MISC       1.00      1.00      1.00         7\n",
      "         ORG       1.00      1.00      1.00         2\n",
      "         PER       1.00      1.00      1.00         1\n",
      "\n",
      "    accuracy                           1.00        11\n",
      "   macro avg       1.00      1.00      1.00        11\n",
      "weighted avg       1.00      1.00      1.00        11\n",
      "\n"
     ]
    }
   ],
   "source": [
    "y_true_flat = [label for sublist in y_true for label in sublist]\n",
    "y_pred_flat = [label for sublist in y_pred for label in sublist]\n",
    "print(classification_report(y_true_flat, y_pred_flat))"
   ]
  }
 ],
 "metadata": {
  "kernelspec": {
   "display_name": ".venv",
   "language": "python",
   "name": "python3"
  },
  "language_info": {
   "codemirror_mode": {
    "name": "ipython",
    "version": 3
   },
   "file_extension": ".py",
   "mimetype": "text/x-python",
   "name": "python",
   "nbconvert_exporter": "python",
   "pygments_lexer": "ipython3",
   "version": "3.12.7"
  }
 },
 "nbformat": 4,
 "nbformat_minor": 2
}
